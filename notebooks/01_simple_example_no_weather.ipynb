{
 "cells": [
  {
   "cell_type": "code",
   "execution_count": 10,
   "id": "7789c956",
   "metadata": {},
   "outputs": [],
   "source": [
    "#update to be relative to your project structure\n",
    "main_input_folder_path = r\"C:\\Users\\webbb\\VolkerWessels UK\\Grp_VMS GeoSeacore Collaboration Space - SZC\\2 Internal WIP\\06. MST's\\Weather Windows\""
   ]
  },
  {
   "cell_type": "code",
   "execution_count": null,
   "id": "21bb0aa4",
   "metadata": {},
   "outputs": [],
   "source": [
    "import sys\n",
    "import os\n",
    "import pandas as pd\n",
    "\n",
    "# Add the src directory to the system path and import functions\n",
    "sys.path.append(os.path.abspath('../src'))\n",
    "from schedule_simple import generate_activity_list, schedule_activities, scheduled_df, shift_start_end\n",
    "from plot import plot"
   ]
  },
  {
   "cell_type": "code",
   "execution_count": 12,
   "id": "624cb44d",
   "metadata": {},
   "outputs": [
    {
     "name": "stdout",
     "output_type": "stream",
     "text": [
      "<class 'pandas.core.frame.DataFrame'>\n",
      "RangeIndex: 54 entries, 0 to 53\n",
      "Data columns (total 22 columns):\n",
      " #   Column                                     Non-Null Count  Dtype  \n",
      "---  ------                                     --------------  -----  \n",
      " 0   ID                                         54 non-null     object \n",
      " 1   Sub Activity                               54 non-null     object \n",
      " 2   Predecessor ID(s)                          52 non-null     object \n",
      " 3   Group                                      54 non-null     object \n",
      " 4   Phase                                      39 non-null     object \n",
      " 5   Reference Doc                              28 non-null     object \n",
      " 6   Resources required (Vessels, plants etc.)  38 non-null     object \n",
      " 7   Type                                       3 non-null      object \n",
      " 8   Duration (hours)                           54 non-null     float64\n",
      " 9   Contingency time  (hours)                  0 non-null      float64\n",
      " 10  Minimum Weather Window (hours)             0 non-null      float64\n",
      " 11  Maximum Wind Speed at 10m (m/s)            0 non-null      float64\n",
      " 12  Maximum Significant Wave Height, Hs (m)    0 non-null      float64\n",
      " 13  Maximum Wave Period (s)                    0 non-null      float64\n",
      " 14  Maximum Tidal Current (m/s)                1 non-null      float64\n",
      " 15  Minimum Tidal Level (mCD)                  1 non-null      float64\n",
      " 16  Visibility  (nm)                           1 non-null      object \n",
      " 17  Daylight operations?                       1 non-null      float64\n",
      " 18  Notes                                      0 non-null      float64\n",
      " 19  Safe State - Post Activity Hold Possible?  1 non-null      object \n",
      " 20  Risk of holding description                0 non-null      float64\n",
      " 21  Contingency plan if applicable             0 non-null      float64\n",
      "dtypes: float64(12), object(10)\n",
      "memory usage: 9.4+ KB\n"
     ]
    }
   ],
   "source": [
    "#read in activity data from excel\n",
    "path = os.path.join(main_input_folder_path, \"WeatherWindows.xlsx\")\n",
    "act_df = pd.read_excel(path, sheet_name=\"Sheet1\", skiprows=1)\n",
    "act_df.info()"
   ]
  },
  {
   "cell_type": "code",
   "execution_count": 13,
   "id": "dc7b2df3",
   "metadata": {},
   "outputs": [
    {
     "data": {
      "text/html": [
       "<div>\n",
       "<style scoped>\n",
       "    .dataframe tbody tr th:only-of-type {\n",
       "        vertical-align: middle;\n",
       "    }\n",
       "\n",
       "    .dataframe tbody tr th {\n",
       "        vertical-align: top;\n",
       "    }\n",
       "\n",
       "    .dataframe thead th {\n",
       "        text-align: right;\n",
       "    }\n",
       "</style>\n",
       "<table border=\"1\" class=\"dataframe\">\n",
       "  <thead>\n",
       "    <tr style=\"text-align: right;\">\n",
       "      <th></th>\n",
       "      <th>ID</th>\n",
       "      <th>Description</th>\n",
       "      <th>Duration (hours)</th>\n",
       "      <th>Start (hours)</th>\n",
       "      <th>End (hours)</th>\n",
       "      <th>Group</th>\n",
       "      <th>Predecessor IDs</th>\n",
       "      <th>Max Tidal Current (m/s)</th>\n",
       "      <th>Min Tidal Level (mCD)</th>\n",
       "      <th>Critical</th>\n",
       "    </tr>\n",
       "  </thead>\n",
       "  <tbody>\n",
       "    <tr>\n",
       "      <th>0</th>\n",
       "      <td>PM01</td>\n",
       "      <td>Mobilisation of Leask marine spread</td>\n",
       "      <td>5.0</td>\n",
       "      <td>-6.0</td>\n",
       "      <td>-1.0</td>\n",
       "      <td>Pipe Management</td>\n",
       "      <td>[]</td>\n",
       "      <td>None</td>\n",
       "      <td>None</td>\n",
       "      <td>False</td>\n",
       "    </tr>\n",
       "    <tr>\n",
       "      <th>1</th>\n",
       "      <td>CTV01</td>\n",
       "      <td>CTV transfer of Personnel  to JUB</td>\n",
       "      <td>2.0</td>\n",
       "      <td>-6.0</td>\n",
       "      <td>-4.0</td>\n",
       "      <td>Crew Transfer Vessel</td>\n",
       "      <td>[]</td>\n",
       "      <td>None</td>\n",
       "      <td>None</td>\n",
       "      <td>False</td>\n",
       "    </tr>\n",
       "    <tr>\n",
       "      <th>2</th>\n",
       "      <td>HDD01</td>\n",
       "      <td>Punch out of pilot</td>\n",
       "      <td>3.0</td>\n",
       "      <td>0.0</td>\n",
       "      <td>3.0</td>\n",
       "      <td>Horizontal Directional Drilling</td>\n",
       "      <td>[PM02,  JUB01]</td>\n",
       "      <td>None</td>\n",
       "      <td>None</td>\n",
       "      <td>True</td>\n",
       "    </tr>\n",
       "    <tr>\n",
       "      <th>3</th>\n",
       "      <td>CTV02</td>\n",
       "      <td>Bathymetric survey of pilot to confirm bore lo...</td>\n",
       "      <td>3.0</td>\n",
       "      <td>3.0</td>\n",
       "      <td>6.0</td>\n",
       "      <td>Crew Transfer Vessel</td>\n",
       "      <td>[HDD01]</td>\n",
       "      <td>None</td>\n",
       "      <td>None</td>\n",
       "      <td>True</td>\n",
       "    </tr>\n",
       "    <tr>\n",
       "      <th>4</th>\n",
       "      <td>HDD02</td>\n",
       "      <td>Pull back of pilot</td>\n",
       "      <td>6.0</td>\n",
       "      <td>6.0</td>\n",
       "      <td>12.0</td>\n",
       "      <td>Horizontal Directional Drilling</td>\n",
       "      <td>[CTV02]</td>\n",
       "      <td>None</td>\n",
       "      <td>None</td>\n",
       "      <td>True</td>\n",
       "    </tr>\n",
       "  </tbody>\n",
       "</table>\n",
       "</div>"
      ],
      "text/plain": [
       "      ID                                        Description  Duration (hours)  \\\n",
       "0   PM01                Mobilisation of Leask marine spread               5.0   \n",
       "1  CTV01                  CTV transfer of Personnel  to JUB               2.0   \n",
       "2  HDD01                                 Punch out of pilot               3.0   \n",
       "3  CTV02  Bathymetric survey of pilot to confirm bore lo...               3.0   \n",
       "4  HDD02                                 Pull back of pilot               6.0   \n",
       "\n",
       "   Start (hours)  End (hours)                            Group  \\\n",
       "0           -6.0         -1.0                  Pipe Management   \n",
       "1           -6.0         -4.0             Crew Transfer Vessel   \n",
       "2            0.0          3.0  Horizontal Directional Drilling   \n",
       "3            3.0          6.0             Crew Transfer Vessel   \n",
       "4            6.0         12.0  Horizontal Directional Drilling   \n",
       "\n",
       "  Predecessor IDs Max Tidal Current (m/s) Min Tidal Level (mCD)  Critical  \n",
       "0              []                    None                  None     False  \n",
       "1              []                    None                  None     False  \n",
       "2  [PM02,  JUB01]                    None                  None      True  \n",
       "3         [HDD01]                    None                  None      True  \n",
       "4         [CTV02]                    None                  None      True  "
      ]
     },
     "execution_count": 13,
     "metadata": {},
     "output_type": "execute_result"
    }
   ],
   "source": [
    "#Example without weather\n",
    "\n",
    "act_list = generate_activity_list(act_df) #generate activity list\n",
    "\n",
    "scheduled_activities = schedule_activities(act_list) #schedule activities\n",
    "\n",
    "scheduled_df = scheduled_df(scheduled_activities) #convert to dataframe for easier handling\n",
    "\n",
    "schedule_activities = shift_start_end(scheduled_df) #shift to make punch out 0\n",
    "scheduled_df.head()"
   ]
  },
  {
   "cell_type": "code",
   "execution_count": null,
   "id": "19e66425",
   "metadata": {},
   "outputs": [
    {
     "name": "stdout",
     "output_type": "stream",
     "text": [
      "{0: {'tidal_level': 2.92, 'tidal_current': 0.419999999999999}, 1: {'tidal_level': 3.15, 'tidal_current': 0.4800000000000004}, 2: {'tidal_level': 3.38, 'tidal_current': 0.4800000000000004}, 3: {'tidal_level': 3.6, 'tidal_current': 0.4200000000000017}, 4: {'tidal_level': 3.73, 'tidal_current': 0.1799999999999988}, 5: {'tidal_level': 3.69, 'tidal_current': 0.1800000000000015}, 6: {'tidal_level': 3.44, 'tidal_current': 0.6000000000000005}, 7: {'tidal_level': 3.05, 'tidal_current': 0.8400000000000007}, 8: {'tidal_level': 2.63, 'tidal_current': 0.8400000000000007}, 9: {'tidal_level': 2.27, 'tidal_current': 0.7200000000000006}, 10: {'tidal_level': 1.97, 'tidal_current': 0.5999999999999992}, 11: {'tidal_level': 1.71, 'tidal_current': 0.5400000000000005}, 12: {'tidal_level': 1.49, 'tidal_current': 0.4200000000000004}, 13: {'tidal_level': 1.28, 'tidal_current': 0.3600000000000003}, 14: {'tidal_level': 1.09, 'tidal_current': 0.359999999999999}, 15: {'tidal_level': 0.95, 'tidal_current': 0.2400000000000002}, 16: {'tidal_level': 0.91, 'tidal_current': 0.0}, 17: {'tidal_level': 0.99, 'tidal_current': 0.2400000000000002}, 18: {'tidal_level': 1.18, 'tidal_current': 0.419999999999999}, 19: {'tidal_level': 1.41, 'tidal_current': 0.4799999999999991}, 20: {'tidal_level': 1.65, 'tidal_current': 0.4799999999999991}, 21: {'tidal_level': 1.89, 'tidal_current': 0.4799999999999991}, 22: {'tidal_level': 2.12, 'tidal_current': 0.4800000000000004}, 23: {'tidal_level': 2.35, 'tidal_current': 0.4200000000000017}, 24: {'tidal_level': 2.59, 'tidal_current': 0.4800000000000004}, 25: {'tidal_level': 2.82, 'tidal_current': 0.4799999999999977}, 26: {'tidal_level': 3.07, 'tidal_current': 0.4799999999999977}, 27: {'tidal_level': 3.33, 'tidal_current': 0.5399999999999991}, 28: {'tidal_level': 3.55, 'tidal_current': 0.419999999999999}, 29: {'tidal_level': 3.66, 'tidal_current': 0.1200000000000001}, 30: {'tidal_level': 3.57, 'tidal_current': 0.3600000000000003}, 31: {'tidal_level': 3.29, 'tidal_current': 0.6599999999999993}, 32: {'tidal_level': 2.89, 'tidal_current': 0.8399999999999981}, 33: {'tidal_level': 2.52, 'tidal_current': 0.6599999999999993}, 34: {'tidal_level': 2.21, 'tidal_current': 0.6000000000000005}, 35: {'tidal_level': 1.97, 'tidal_current': 0.4799999999999991}, 36: {'tidal_level': 1.76, 'tidal_current': 0.4200000000000004}, 37: {'tidal_level': 1.55, 'tidal_current': 0.4200000000000004}, 38: {'tidal_level': 1.36, 'tidal_current': 0.359999999999999}, 39: {'tidal_level': 1.19, 'tidal_current': 0.3000000000000002}, 40: {'tidal_level': 1.09, 'tidal_current': 0.1200000000000001}, 41: {'tidal_level': 1.11, 'tidal_current': 0.1200000000000001}, 42: {'tidal_level': 1.26, 'tidal_current': 0.3600000000000003}, 43: {'tidal_level': 1.49, 'tidal_current': 0.4800000000000004}, 44: {'tidal_level': 1.74, 'tidal_current': 0.5400000000000005}, 45: {'tidal_level': 1.97, 'tidal_current': 0.4800000000000004}, 46: {'tidal_level': 2.2, 'tidal_current': 0.4200000000000017}, 47: {'tidal_level': 2.44, 'tidal_current': 0.4800000000000004}, 48: {'tidal_level': 2.67, 'tidal_current': 0.4800000000000004}, 49: {'tidal_level': 2.89, 'tidal_current': 0.4200000000000017}, 50: {'tidal_level': 3.1, 'tidal_current': 0.4200000000000017}, 51: {'tidal_level': 3.29, 'tidal_current': 0.3600000000000003}, 52: {'tidal_level': 3.46, 'tidal_current': 0.2999999999999989}, 53: {'tidal_level': 3.57, 'tidal_current': 0.1200000000000001}, 54: {'tidal_level': 3.56, 'tidal_current': 0.1799999999999988}, 55: {'tidal_level': 3.38, 'tidal_current': 0.4800000000000004}, 56: {'tidal_level': 3.05, 'tidal_current': 0.7200000000000006}, 57: {'tidal_level': 2.67, 'tidal_current': 0.7799999999999994}, 58: {'tidal_level': 2.33, 'tidal_current': 0.6000000000000005}, 59: {'tidal_level': 2.03, 'tidal_current': 0.6000000000000005}, 60: {'tidal_level': 1.78, 'tidal_current': 0.4800000000000004}, 61: {'tidal_level': 1.57, 'tidal_current': 0.419999999999999}, 62: {'tidal_level': 1.38, 'tidal_current': 0.3600000000000003}, 63: {'tidal_level': 1.2, 'tidal_current': 0.3600000000000003}, 64: {'tidal_level': 1.06, 'tidal_current': 0.2400000000000002}, 65: {'tidal_level': 0.98, 'tidal_current': 0.1200000000000001}, 66: {'tidal_level': 1.02, 'tidal_current': 0.1800000000000001}, 67: {'tidal_level': 1.16, 'tidal_current': 0.359999999999999}, 68: {'tidal_level': 1.35, 'tidal_current': 0.4200000000000004}, 69: {'tidal_level': 1.55, 'tidal_current': 0.3600000000000003}, 70: {'tidal_level': 1.75, 'tidal_current': 0.3600000000000003}, 71: {'tidal_level': 1.97, 'tidal_current': 0.4800000000000004}, 72: {'tidal_level': 2.2, 'tidal_current': 0.4800000000000004}, 73: {'tidal_level': 2.44, 'tidal_current': 0.4800000000000004}, 74: {'tidal_level': 2.68, 'tidal_current': 0.4800000000000004}, 75: {'tidal_level': 2.92, 'tidal_current': 0.4800000000000004}, 76: {'tidal_level': 3.15, 'tidal_current': 0.419999999999999}, 77: {'tidal_level': 3.36, 'tidal_current': 0.419999999999999}, 78: {'tidal_level': 3.49, 'tidal_current': 0.1800000000000015}, 79: {'tidal_level': 3.48, 'tidal_current': 0.1200000000000001}, 80: {'tidal_level': 3.28, 'tidal_current': 0.5400000000000018}, 81: {'tidal_level': 2.96, 'tidal_current': 0.7200000000000006}, 82: {'tidal_level': 2.63, 'tidal_current': 0.6000000000000005}, 83: {'tidal_level': 2.34, 'tidal_current': 0.5400000000000018}, 84: {'tidal_level': 2.11, 'tidal_current': 0.4200000000000017}, 85: {'tidal_level': 1.91, 'tidal_current': 0.4200000000000004}, 86: {'tidal_level': 1.73, 'tidal_current': 0.3600000000000003}, 87: {'tidal_level': 1.56, 'tidal_current': 0.3600000000000003}, 88: {'tidal_level': 1.4, 'tidal_current': 0.3000000000000002}, 89: {'tidal_level': 1.27, 'tidal_current': 0.2400000000000002}, 90: {'tidal_level': 1.24, 'tidal_current': 0.0}, 91: {'tidal_level': 1.33, 'tidal_current': 0.2400000000000002}, 92: {'tidal_level': 1.5, 'tidal_current': 0.3600000000000003}, 93: {'tidal_level': 1.71, 'tidal_current': 0.4200000000000004}, 94: {'tidal_level': 1.9, 'tidal_current': 0.359999999999999}, 95: {'tidal_level': 2.09, 'tidal_current': 0.419999999999999}, 96: {'tidal_level': 2.29, 'tidal_current': 0.419999999999999}, 97: {'tidal_level': 2.52, 'tidal_current': 0.4800000000000004}, 98: {'tidal_level': 2.75, 'tidal_current': 0.4800000000000004}, 99: {'tidal_level': 2.96, 'tidal_current': 0.419999999999999}, 100: {'tidal_level': 3.15, 'tidal_current': 0.3600000000000003}, 101: {'tidal_level': 3.3, 'tidal_current': 0.2999999999999989}, 102: {'tidal_level': 3.4, 'tidal_current': 0.1799999999999988}, 103: {'tidal_level': 3.42, 'tidal_current': 0.0}, 104: {'tidal_level': 3.32, 'tidal_current': 0.3000000000000016}, 105: {'tidal_level': 3.1, 'tidal_current': 0.4800000000000004}, 106: {'tidal_level': 2.79, 'tidal_current': 0.6599999999999993}, 107: {'tidal_level': 2.49, 'tidal_current': 0.5999999999999979}, 108: {'tidal_level': 2.2, 'tidal_current': 0.5399999999999991}, 109: {'tidal_level': 1.95, 'tidal_current': 0.4799999999999991}, 110: {'tidal_level': 1.73, 'tidal_current': 0.4200000000000004}, 111: {'tidal_level': 1.55, 'tidal_current': 0.3000000000000002}, 112: {'tidal_level': 1.38, 'tidal_current': 0.3600000000000003}, 113: {'tidal_level': 1.23, 'tidal_current': 0.3000000000000002}, 114: {'tidal_level': 1.11, 'tidal_current': 0.1799999999999988}, 115: {'tidal_level': 1.08, 'tidal_current': 0.0}, 116: {'tidal_level': 1.14, 'tidal_current': 0.1799999999999988}, 117: {'tidal_level': 1.26, 'tidal_current': 0.2400000000000002}, 118: {'tidal_level': 1.41, 'tidal_current': 0.2999999999999989}, 119: {'tidal_level': 1.56, 'tidal_current': 0.3000000000000002}, 120: {'tidal_level': 1.74, 'tidal_current': 0.3600000000000003}, 121: {'tidal_level': 1.95, 'tidal_current': 0.4200000000000004}, 122: {'tidal_level': 2.19, 'tidal_current': 0.4800000000000004}, 123: {'tidal_level': 2.43, 'tidal_current': 0.4800000000000004}, 124: {'tidal_level': 2.67, 'tidal_current': 0.4800000000000004}, 125: {'tidal_level': 2.9, 'tidal_current': 0.419999999999999}, 126: {'tidal_level': 3.12, 'tidal_current': 0.4200000000000017}, 127: {'tidal_level': 3.28, 'tidal_current': 0.2999999999999989}, 128: {'tidal_level': 3.35, 'tidal_current': 0.0600000000000013}, 129: {'tidal_level': 3.28, 'tidal_current': 0.2400000000000002}, 130: {'tidal_level': 3.09, 'tidal_current': 0.4200000000000017}, 131: {'tidal_level': 2.83, 'tidal_current': 0.5399999999999991}, 132: {'tidal_level': 2.58, 'tidal_current': 0.4800000000000004}, 133: {'tidal_level': 2.37, 'tidal_current': 0.419999999999999}, 134: {'tidal_level': 2.17, 'tidal_current': 0.3600000000000003}, 135: {'tidal_level': 1.99, 'tidal_current': 0.359999999999999}, 136: {'tidal_level': 1.83, 'tidal_current': 0.359999999999999}, 137: {'tidal_level': 1.68, 'tidal_current': 0.3000000000000002}, 138: {'tidal_level': 1.52, 'tidal_current': 0.3000000000000002}, 139: {'tidal_level': 1.42, 'tidal_current': 0.1800000000000001}, 140: {'tidal_level': 1.42, 'tidal_current': 0.06}, 141: {'tidal_level': 1.5, 'tidal_current': 0.2400000000000002}, 142: {'tidal_level': 1.63, 'tidal_current': 0.2999999999999989}, 143: {'tidal_level': 1.77, 'tidal_current': 0.2400000000000002}, 144: {'tidal_level': 1.91, 'tidal_current': 0.2999999999999989}, 145: {'tidal_level': 2.06, 'tidal_current': 0.3000000000000016}, 146: {'tidal_level': 2.26, 'tidal_current': 0.419999999999999}, 147: {'tidal_level': 2.48, 'tidal_current': 0.419999999999999}, 148: {'tidal_level': 2.71, 'tidal_current': 0.4800000000000004}, 149: {'tidal_level': 2.91, 'tidal_current': 0.4200000000000017}, 150: {'tidal_level': 3.07, 'tidal_current': 0.2999999999999989}, 151: {'tidal_level': 3.19, 'tidal_current': 0.1799999999999988}, 152: {'tidal_level': 3.25, 'tidal_current': 0.0599999999999987}, 153: {'tidal_level': 3.24, 'tidal_current': 0.0599999999999987}, 154: {'tidal_level': 3.15, 'tidal_current': 0.2400000000000002}, 155: {'tidal_level': 2.98, 'tidal_current': 0.3600000000000003}, 156: {'tidal_level': 2.75, 'tidal_current': 0.4800000000000004}, 157: {'tidal_level': 2.5, 'tidal_current': 0.4800000000000004}, 158: {'tidal_level': 2.24, 'tidal_current': 0.5399999999999991}, 159: {'tidal_level': 2.0, 'tidal_current': 0.4800000000000004}, 160: {'tidal_level': 1.8, 'tidal_current': 0.3600000000000003}, 161: {'tidal_level': 1.64, 'tidal_current': 0.3000000000000002}, 162: {'tidal_level': 1.47, 'tidal_current': 0.3600000000000003}, 163: {'tidal_level': 1.31, 'tidal_current': 0.3000000000000002}, 164: {'tidal_level': 1.19, 'tidal_current': 0.1800000000000001}, 165: {'tidal_level': 1.16, 'tidal_current': 0.0}, 166: {'tidal_level': 1.19, 'tidal_current': 0.1200000000000001}, 167: {'tidal_level': 1.25, 'tidal_current': 0.1200000000000001}, 168: {'tidal_level': 1.34, 'tidal_current': 0.1800000000000001}, 169: {'tidal_level': 1.46, 'tidal_current': 0.3000000000000002}, 170: {'tidal_level': 1.63, 'tidal_current': 0.359999999999999}, 171: {'tidal_level': 1.85, 'tidal_current': 0.4200000000000004}, 172: {'tidal_level': 2.08, 'tidal_current': 0.4200000000000017}, 173: {'tidal_level': 2.32, 'tidal_current': 0.4799999999999977}, 174: {'tidal_level': 2.56, 'tidal_current': 0.4800000000000004}, 175: {'tidal_level': 2.8, 'tidal_current': 0.4799999999999977}, 176: {'tidal_level': 3.01, 'tidal_current': 0.419999999999999}, 177: {'tidal_level': 3.16, 'tidal_current': 0.2400000000000002}, 178: {'tidal_level': 3.23, 'tidal_current': 0.0599999999999987}, 179: {'tidal_level': 3.2, 'tidal_current': 0.1200000000000001}, 180: {'tidal_level': 3.08, 'tidal_current': 0.2999999999999989}, 181: {'tidal_level': 2.92, 'tidal_current': 0.3000000000000016}, 182: {'tidal_level': 2.73, 'tidal_current': 0.419999999999999}, 183: {'tidal_level': 2.54, 'tidal_current': 0.3600000000000003}, 184: {'tidal_level': 2.34, 'tidal_current': 0.3600000000000003}, 185: {'tidal_level': 2.17, 'tidal_current': 0.3600000000000003}, 186: {'tidal_level': 2.01, 'tidal_current': 0.3600000000000003}, 187: {'tidal_level': 1.83, 'tidal_current': 0.359999999999999}, 188: {'tidal_level': 1.67, 'tidal_current': 0.3000000000000002}, 189: {'tidal_level': 1.56, 'tidal_current': 0.1200000000000001}, 190: {'tidal_level': 1.52, 'tidal_current': 0.06}, 191: {'tidal_level': 1.55, 'tidal_current': 0.1200000000000001}, 192: {'tidal_level': 1.6, 'tidal_current': 0.1200000000000001}, 193: {'tidal_level': 1.68, 'tidal_current': 0.1800000000000001}, 194: {'tidal_level': 1.79, 'tidal_current': 0.2400000000000002}, 195: {'tidal_level': 1.95, 'tidal_current': 0.3600000000000003}, 196: {'tidal_level': 2.15, 'tidal_current': 0.419999999999999}, 197: {'tidal_level': 2.36, 'tidal_current': 0.419999999999999}, 198: {'tidal_level': 2.57, 'tidal_current': 0.419999999999999}, 199: {'tidal_level': 2.77, 'tidal_current': 0.3600000000000003}, 200: {'tidal_level': 2.94, 'tidal_current': 0.3600000000000003}, 201: {'tidal_level': 3.05, 'tidal_current': 0.1799999999999988}, 202: {'tidal_level': 3.13, 'tidal_current': 0.1200000000000001}, 203: {'tidal_level': 3.16, 'tidal_current': 0.0600000000000013}, 204: {'tidal_level': 3.14, 'tidal_current': 0.0599999999999987}, 205: {'tidal_level': 3.05, 'tidal_current': 0.2400000000000002}, 206: {'tidal_level': 2.88, 'tidal_current': 0.4200000000000017}, 207: {'tidal_level': 2.65, 'tidal_current': 0.4800000000000004}, 208: {'tidal_level': 2.38, 'tidal_current': 0.5400000000000018}, 209: {'tidal_level': 2.15, 'tidal_current': 0.4200000000000017}, 210: {'tidal_level': 1.95, 'tidal_current': 0.359999999999999}, 211: {'tidal_level': 1.77, 'tidal_current': 0.3600000000000003}, 212: {'tidal_level': 1.57, 'tidal_current': 0.359999999999999}, 213: {'tidal_level': 1.38, 'tidal_current': 0.3600000000000003}, 214: {'tidal_level': 1.24, 'tidal_current': 0.2400000000000002}, 215: {'tidal_level': 1.16, 'tidal_current': 0.1200000000000001}, 216: {'tidal_level': 1.12, 'tidal_current': 0.0599999999999987}, 217: {'tidal_level': 1.12, 'tidal_current': 0.06}, 218: {'tidal_level': 1.17, 'tidal_current': 0.1800000000000001}, 219: {'tidal_level': 1.28, 'tidal_current': 0.2400000000000002}, 220: {'tidal_level': 1.47, 'tidal_current': 0.4200000000000004}, 221: {'tidal_level': 1.68, 'tidal_current': 0.419999999999999}, 222: {'tidal_level': 1.91, 'tidal_current': 0.4799999999999991}, 223: {'tidal_level': 2.15, 'tidal_current': 0.5399999999999991}, 224: {'tidal_level': 2.41, 'tidal_current': 0.5400000000000018}, 225: {'tidal_level': 2.67, 'tidal_current': 0.5399999999999991}, 226: {'tidal_level': 2.9, 'tidal_current': 0.419999999999999}, 227: {'tidal_level': 3.08, 'tidal_current': 0.3000000000000016}, 228: {'tidal_level': 3.21, 'tidal_current': 0.1799999999999988}, 229: {'tidal_level': 3.27, 'tidal_current': 0.0600000000000013}, 230: {'tidal_level': 3.25, 'tidal_current': 0.1200000000000001}, 231: {'tidal_level': 3.15, 'tidal_current': 0.2400000000000002}, 232: {'tidal_level': 2.98, 'tidal_current': 0.3600000000000003}, 233: {'tidal_level': 2.77, 'tidal_current': 0.419999999999999}, 234: {'tidal_level': 2.57, 'tidal_current': 0.3600000000000003}, 235: {'tidal_level': 2.37, 'tidal_current': 0.419999999999999}, 236: {'tidal_level': 2.17, 'tidal_current': 0.4200000000000017}, 237: {'tidal_level': 1.95, 'tidal_current': 0.4200000000000004}, 238: {'tidal_level': 1.75, 'tidal_current': 0.3600000000000003}, 239: {'tidal_level': 1.61, 'tidal_current': 0.2399999999999988}, 240: {'tidal_level': 1.51, 'tidal_current': 0.1200000000000001}, 241: {'tidal_level': 1.45, 'tidal_current': 0.1200000000000001}, 242: {'tidal_level': 1.44, 'tidal_current': 0.0}, 243: {'tidal_level': 1.49, 'tidal_current': 0.1200000000000001}, 244: {'tidal_level': 1.61, 'tidal_current': 0.3000000000000002}, 245: {'tidal_level': 1.79, 'tidal_current': 0.3600000000000003}, 246: {'tidal_level': 2.0, 'tidal_current': 0.4200000000000004}, 247: {'tidal_level': 2.22, 'tidal_current': 0.4200000000000017}, 248: {'tidal_level': 2.43, 'tidal_current': 0.4200000000000017}, 249: {'tidal_level': 2.65, 'tidal_current': 0.419999999999999}, 250: {'tidal_level': 2.83, 'tidal_current': 0.3000000000000016}, 251: {'tidal_level': 2.98, 'tidal_current': 0.2400000000000002}, 252: {'tidal_level': 3.11, 'tidal_current': 0.2400000000000002}, 253: {'tidal_level': 3.22, 'tidal_current': 0.1800000000000015}, 254: {'tidal_level': 3.29, 'tidal_current': 0.1200000000000001}, 255: {'tidal_level': 3.25, 'tidal_current': 0.1799999999999988}, 256: {'tidal_level': 3.1, 'tidal_current': 0.419999999999999}, 257: {'tidal_level': 2.85, 'tidal_current': 0.5399999999999991}, 258: {'tidal_level': 2.57, 'tidal_current': 0.5400000000000018}, 259: {'tidal_level': 2.31, 'tidal_current': 0.4800000000000004}, 260: {'tidal_level': 2.09, 'tidal_current': 0.4200000000000017}, 261: {'tidal_level': 1.85, 'tidal_current': 0.4799999999999991}, 262: {'tidal_level': 1.61, 'tidal_current': 0.4799999999999991}, 263: {'tidal_level': 1.39, 'tidal_current': 0.4200000000000004}, 264: {'tidal_level': 1.21, 'tidal_current': 0.3600000000000003}, 265: {'tidal_level': 1.06, 'tidal_current': 0.2400000000000002}, 266: {'tidal_level': 0.95, 'tidal_current': 0.1800000000000001}, 267: {'tidal_level': 0.91, 'tidal_current': 0.0}, 268: {'tidal_level': 0.95, 'tidal_current': 0.1199999999999994}, 269: {'tidal_level': 1.09, 'tidal_current': 0.3600000000000003}, 270: {'tidal_level': 1.29, 'tidal_current': 0.4200000000000004}, 271: {'tidal_level': 1.51, 'tidal_current': 0.4200000000000004}, 272: {'tidal_level': 1.75, 'tidal_current': 0.4800000000000004}, 273: {'tidal_level': 2.02, 'tidal_current': 0.6000000000000005}, 274: {'tidal_level': 2.31, 'tidal_current': 0.6000000000000005}, 275: {'tidal_level': 2.6, 'tidal_current': 0.6000000000000005}, 276: {'tidal_level': 2.86, 'tidal_current': 0.5399999999999991}, 277: {'tidal_level': 3.11, 'tidal_current': 0.4800000000000004}, 278: {'tidal_level': 3.33, 'tidal_current': 0.4200000000000017}, 279: {'tidal_level': 3.48, 'tidal_current': 0.2400000000000002}, 280: {'tidal_level': 3.52, 'tidal_current': 0.0}, 281: {'tidal_level': 3.43, 'tidal_current': 0.2400000000000002}, 282: {'tidal_level': 3.23, 'tidal_current': 0.4800000000000004}, 283: {'tidal_level': 2.98, 'tidal_current': 0.4800000000000004}, 284: {'tidal_level': 2.73, 'tidal_current': 0.4800000000000004}, 285: {'tidal_level': 2.49, 'tidal_current': 0.4799999999999977}, 286: {'tidal_level': 2.23, 'tidal_current': 0.4800000000000004}, 287: {'tidal_level': 1.97, 'tidal_current': 0.4799999999999991}, 288: {'tidal_level': 1.74, 'tidal_current': 0.4200000000000004}, 289: {'tidal_level': 1.54, 'tidal_current': 0.4200000000000004}, 290: {'tidal_level': 1.37, 'tidal_current': 0.2999999999999989}, 291: {'tidal_level': 1.25, 'tidal_current': 0.2400000000000002}, 292: {'tidal_level': 1.22, 'tidal_current': 0.0}, 293: {'tidal_level': 1.29, 'tidal_current': 0.1800000000000001}, 294: {'tidal_level': 1.46, 'tidal_current': 0.3600000000000003}, 295: {'tidal_level': 1.69, 'tidal_current': 0.4799999999999991}, 296: {'tidal_level': 1.92, 'tidal_current': 0.4799999999999991}, 297: {'tidal_level': 2.14, 'tidal_current': 0.4800000000000004}, 298: {'tidal_level': 2.38, 'tidal_current': 0.4800000000000004}, 299: {'tidal_level': 2.62, 'tidal_current': 0.4800000000000004}, 300: {'tidal_level': 2.83, 'tidal_current': 0.3600000000000003}, 301: {'tidal_level': 3.03, 'tidal_current': 0.419999999999999}, 302: {'tidal_level': 3.22, 'tidal_current': 0.3600000000000003}, 303: {'tidal_level': 3.41, 'tidal_current': 0.3600000000000003}, 304: {'tidal_level': 3.52, 'tidal_current': 0.1200000000000001}, 305: {'tidal_level': 3.5, 'tidal_current': 0.1799999999999988}, 306: {'tidal_level': 3.33, 'tidal_current': 0.419999999999999}, 307: {'tidal_level': 3.03, 'tidal_current': 0.6000000000000005}, 308: {'tidal_level': 2.7, 'tidal_current': 0.6599999999999993}, 309: {'tidal_level': 2.4, 'tidal_current': 0.6000000000000005}, 310: {'tidal_level': 2.12, 'tidal_current': 0.5399999999999991}, 311: {'tidal_level': 1.84, 'tidal_current': 0.5399999999999991}, 312: {'tidal_level': 1.57, 'tidal_current': 0.5399999999999991}, 313: {'tidal_level': 1.32, 'tidal_current': 0.4799999999999991}, 314: {'tidal_level': 1.09, 'tidal_current': 0.419999999999999}, 315: {'tidal_level': 0.88, 'tidal_current': 0.3599999999999996}, 316: {'tidal_level': 0.74, 'tidal_current': 0.2400000000000002}, 317: {'tidal_level': 0.69, 'tidal_current': 0.06}, 318: {'tidal_level': 0.76, 'tidal_current': 0.1800000000000001}, 319: {'tidal_level': 0.94, 'tidal_current': 0.4199999999999997}, 320: {'tidal_level': 1.17, 'tidal_current': 0.4799999999999991}, 321: {'tidal_level': 1.42, 'tidal_current': 0.4799999999999991}, 322: {'tidal_level': 1.7, 'tidal_current': 0.5999999999999992}, 323: {'tidal_level': 2.0, 'tidal_current': 0.6600000000000006}, 324: {'tidal_level': 2.31, 'tidal_current': 0.6000000000000005}, 325: {'tidal_level': 2.62, 'tidal_current': 0.6600000000000019}, 326: {'tidal_level': 2.92, 'tidal_current': 0.6000000000000005}, 327: {'tidal_level': 3.24, 'tidal_current': 0.6600000000000019}, 328: {'tidal_level': 3.53, 'tidal_current': 0.5399999999999991}, 329: {'tidal_level': 3.74, 'tidal_current': 0.3600000000000003}, 330: {'tidal_level': 3.79, 'tidal_current': 0.0}, 331: {'tidal_level': 3.66, 'tidal_current': 0.3600000000000003}, 332: {'tidal_level': 3.38, 'tidal_current': 0.6000000000000005}, 333: {'tidal_level': 3.06, 'tidal_current': 0.6599999999999993}, 334: {'tidal_level': 2.75, 'tidal_current': 0.6000000000000005}, 335: {'tidal_level': 2.45, 'tidal_current': 0.5999999999999979}, 336: {'tidal_level': 2.35, 'tidal_current': 0.6000000000000005}}\n"
     ]
    },
    {
     "ename": "TypeError",
     "evalue": "'DataFrame' object is not callable",
     "output_type": "error",
     "traceback": [
      "\u001b[31m---------------------------------------------------------------------------\u001b[39m",
      "\u001b[31mTypeError\u001b[39m                                 Traceback (most recent call last)",
      "\u001b[36mCell\u001b[39m\u001b[36m \u001b[39m\u001b[32mIn[20]\u001b[39m\u001b[32m, line 35\u001b[39m\n\u001b[32m     31\u001b[39m \u001b[38;5;28mprint\u001b[39m(weather_data)\n\u001b[32m     34\u001b[39m \u001b[38;5;66;03m# Schedule with 30-minute intervals\u001b[39;00m\n\u001b[32m---> \u001b[39m\u001b[32m35\u001b[39m scheduled_data = \u001b[43mschedule_activities\u001b[49m\u001b[43m(\u001b[49m\u001b[43mactivities\u001b[49m\u001b[43m,\u001b[49m\u001b[43m \u001b[49m\u001b[43mweather_data\u001b[49m\u001b[43m,\u001b[49m\u001b[43m \u001b[49m\u001b[43manalysis_interval\u001b[49m\u001b[43m=\u001b[49m\u001b[32;43m1\u001b[39;49m\u001b[43m)\u001b[49m\n\u001b[32m     38\u001b[39m df = scheduled_df(scheduled_data)\n\u001b[32m     39\u001b[39m df = shift_start_end(df)\n",
      "\u001b[31mTypeError\u001b[39m: 'DataFrame' object is not callable"
     ]
    }
   ],
   "source": []
  },
  {
   "cell_type": "code",
   "execution_count": 1,
   "id": "f12ea217",
   "metadata": {},
   "outputs": [
    {
     "ename": "NameError",
     "evalue": "name 'plot' is not defined",
     "output_type": "error",
     "traceback": [
      "\u001b[31m---------------------------------------------------------------------------\u001b[39m",
      "\u001b[31mNameError\u001b[39m                                 Traceback (most recent call last)",
      "\u001b[36mCell\u001b[39m\u001b[36m \u001b[39m\u001b[32mIn[1]\u001b[39m\u001b[32m, line 1\u001b[39m\n\u001b[32m----> \u001b[39m\u001b[32m1\u001b[39m fig = \u001b[43mplot\u001b[49m(scheduled_df)\n\u001b[32m      3\u001b[39m outputpath=os.path.join(main_input_folder_path, \u001b[33m\"\u001b[39m\u001b[33mpipe_pull_schedule.html\u001b[39m\u001b[33m\"\u001b[39m)\n\u001b[32m      4\u001b[39m fig.write_html(outputpath, include_plotlyjs=\u001b[33m'\u001b[39m\u001b[33mcdn\u001b[39m\u001b[33m'\u001b[39m)\n",
      "\u001b[31mNameError\u001b[39m: name 'plot' is not defined"
     ]
    }
   ],
   "source": [
    "fig = plot(scheduled_df)\n",
    "\n",
    "outputpath=os.path.join(main_input_folder_path, \"pipe_pull_schedule.html\")\n",
    "fig.write_html(outputpath, include_plotlyjs='cdn')"
   ]
  }
 ],
 "metadata": {
  "kernelspec": {
   "display_name": "Python 3",
   "language": "python",
   "name": "python3"
  },
  "language_info": {
   "codemirror_mode": {
    "name": "ipython",
    "version": 3
   },
   "file_extension": ".py",
   "mimetype": "text/x-python",
   "name": "python",
   "nbconvert_exporter": "python",
   "pygments_lexer": "ipython3",
   "version": "3.13.6"
  }
 },
 "nbformat": 4,
 "nbformat_minor": 5
}
