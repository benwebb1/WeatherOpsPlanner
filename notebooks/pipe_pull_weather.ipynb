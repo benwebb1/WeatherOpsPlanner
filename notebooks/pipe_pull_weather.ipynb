{
 "cells": [
  {
   "cell_type": "code",
   "execution_count": 1,
   "id": "429c75af",
   "metadata": {},
   "outputs": [],
   "source": [
    "import sys\n",
    "import os\n",
    "import pandas as pd\n",
    "from datetime import datetime, timedelta\n",
    "\n",
    "# Add the src directory to the system path and import functions\n",
    "sys.path.append(os.path.abspath('../src'))\n",
    "from schedule_weather import generate_activity_list, Scheduler\n",
    "from weather_constraints import get_daylight_windows, get_tide_windows\n",
    "\n",
    "from plot_weather import plot_weather"
   ]
  },
  {
   "cell_type": "code",
   "execution_count": 2,
   "id": "119235f8",
   "metadata": {},
   "outputs": [
    {
     "name": "stderr",
     "output_type": "stream",
     "text": [
      "c:\\Users\\btweb\\AppData\\Local\\Programs\\Python\\Python313\\Lib\\site-packages\\openpyxl\\worksheet\\_reader.py:329: UserWarning: Data Validation extension is not supported and will be removed\n",
      "  warn(msg)\n"
     ]
    }
   ],
   "source": [
    "#read in activity data from excel\n",
    "#update to be relative to your project structure\n",
    "main_input_folder_path = r\"C:\\Users\\btweb\\Downloads\\WeatherWindows\"\n",
    "path = os.path.join(main_input_folder_path, \"WeatherWindows.xlsx\")\n",
    "act_df = pd.read_excel(path, sheet_name=\"Activities\", skiprows=1)\n",
    "constraints_df = pd.read_excel(path, sheet_name=\"Constraints\", skiprows=1)\n",
    "\n",
    "activities = generate_activity_list(act_df, constraints_df)"
   ]
  },
  {
   "cell_type": "code",
   "execution_count": 3,
   "id": "849df2e7",
   "metadata": {},
   "outputs": [],
   "source": [
    "# 1. Define target activity and completion date\n",
    "target_activity = \"Pilot Punch Out\"\n",
    "input_completion_date = datetime(2025, 12, 9, 3, 0)"
   ]
  },
  {
   "cell_type": "code",
   "execution_count": 4,
   "id": "f4cb8fa3",
   "metadata": {},
   "outputs": [
    {
     "name": "stderr",
     "output_type": "stream",
     "text": [
      "c:\\Users\\btweb\\Documents\\Python Scripts\\WeatherOpsPlanner\\src\\weather_constraints.py:56: UserWarning: Could not infer format, so each element will be parsed individually, falling back to `dateutil`. To ensure parsing is consistent and as-expected, please specify a format.\n",
      "  df[datetime_col] = pd.to_datetime(df[datetime_col], errors='coerce')\n"
     ]
    },
    {
     "name": "stdout",
     "output_type": "stream",
     "text": [
      "Loaded data from 2025-10-01 00:00:00 to 2026-10-31 23:50:00 with 57024 records.\n",
      "Filtered data from 2025-12-06 03:00:00 to 2025-12-16 03:00:00 with 1441 records.\n"
     ]
    }
   ],
   "source": [
    "# 2. Generate daylight and tidal windows around target date ±7 days\n",
    "window_data_start = input_completion_date - timedelta(days=3)\n",
    "window_data_end = input_completion_date + timedelta(days=7)\n",
    "\n",
    "daylight_windows = get_daylight_windows(\n",
    "    start_date=window_data_start,\n",
    "    end_date=window_data_end,\n",
    "    save_csv=None\n",
    ")\n",
    "\n",
    "tidal_data_path = os.path.join(main_input_folder_path, \"Reference/harwich_tide.csv\")\n",
    "hw_windows, lw_windows, events = get_tide_windows(\n",
    "    tidal_data_path,\n",
    "    start_date=window_data_start,\n",
    "    end_date=window_data_end,\n",
    "    skiprows=2,\n",
    "    datetime_col=\"Date/Time\",\n",
    "    height_col=\"Height(m)\",\n",
    "    slack_window_after=1.5,\n",
    "    slack_window_before=1.5,\n",
    "    plot=False,\n",
    "    save_csv=None\n",
    ")"
   ]
  },
  {
   "cell_type": "code",
   "execution_count": 5,
   "id": "80bb2756",
   "metadata": {},
   "outputs": [],
   "source": [
    "# 3. Create Scheduler instance with activities and environmental windows\n",
    "scheduler = Scheduler(\n",
    "    activities=activities,\n",
    "    daylight_windows=daylight_windows,   # List of (start, end) daylight datetime pairs\n",
    "    hw_tide_windows=hw_windows,           # High/slack tide windows as datetime pairs\n",
    "    lw_tide_windows=lw_windows            # Low tide windows as datetime pairs\n",
    ")"
   ]
  },
  {
   "cell_type": "code",
   "execution_count": 6,
   "id": "d99e1003",
   "metadata": {},
   "outputs": [],
   "source": [
    "# 4. Run backward scheduling from target completion date for target activity\n",
    "scheduled_activities = scheduler.schedule_around_target(target_activity, input_completion_date)\n",
    "\n"
   ]
  },
  {
   "cell_type": "code",
   "execution_count": 7,
   "id": "69a476b8",
   "metadata": {},
   "outputs": [
    {
     "name": "stdout",
     "output_type": "stream",
     "text": [
      "Total duration of the schedule: 9 days 19:22:39.657408\n"
     ]
    },
    {
     "data": {
      "text/html": [
       "<div>\n",
       "<style scoped>\n",
       "    .dataframe tbody tr th:only-of-type {\n",
       "        vertical-align: middle;\n",
       "    }\n",
       "\n",
       "    .dataframe tbody tr th {\n",
       "        vertical-align: top;\n",
       "    }\n",
       "\n",
       "    .dataframe thead th {\n",
       "        text-align: right;\n",
       "    }\n",
       "</style>\n",
       "<table border=\"1\" class=\"dataframe\">\n",
       "  <thead>\n",
       "    <tr style=\"text-align: right;\">\n",
       "      <th></th>\n",
       "      <th>ID</th>\n",
       "      <th>Name</th>\n",
       "      <th>Start</th>\n",
       "      <th>End</th>\n",
       "      <th>Duration</th>\n",
       "      <th>Group</th>\n",
       "    </tr>\n",
       "  </thead>\n",
       "  <tbody>\n",
       "    <tr>\n",
       "      <th>0</th>\n",
       "      <td>PM01</td>\n",
       "      <td>Marine spread readiness</td>\n",
       "      <td>NaT</td>\n",
       "      <td>NaT</td>\n",
       "      <td>5.0</td>\n",
       "      <td>Pipe Management</td>\n",
       "    </tr>\n",
       "    <tr>\n",
       "      <th>1</th>\n",
       "      <td>CTV01</td>\n",
       "      <td>Personel transfer prior to pipe pull</td>\n",
       "      <td>NaT</td>\n",
       "      <td>NaT</td>\n",
       "      <td>2.0</td>\n",
       "      <td>Crew Transfer Vessel</td>\n",
       "    </tr>\n",
       "    <tr>\n",
       "      <th>2</th>\n",
       "      <td>HDD01</td>\n",
       "      <td>Pilot Punch Out</td>\n",
       "      <td>2025-12-09 00:00:00.000000</td>\n",
       "      <td>2025-12-09 03:00:00.000000</td>\n",
       "      <td>3.0</td>\n",
       "      <td>Horizontal Directional Drilling</td>\n",
       "    </tr>\n",
       "    <tr>\n",
       "      <th>3</th>\n",
       "      <td>CTV02</td>\n",
       "      <td>Bathy Survey</td>\n",
       "      <td>2025-12-09 07:50:58.342680</td>\n",
       "      <td>2025-12-09 10:50:58.342680</td>\n",
       "      <td>3.0</td>\n",
       "      <td>Crew Transfer Vessel</td>\n",
       "    </tr>\n",
       "    <tr>\n",
       "      <th>4</th>\n",
       "      <td>HDD02</td>\n",
       "      <td>Pilot Pull Back</td>\n",
       "      <td>2025-12-09 03:00:00.000000</td>\n",
       "      <td>2025-12-09 09:00:00.000000</td>\n",
       "      <td>6.0</td>\n",
       "      <td>Horizontal Directional Drilling</td>\n",
       "    </tr>\n",
       "  </tbody>\n",
       "</table>\n",
       "</div>"
      ],
      "text/plain": [
       "      ID                                  Name                      Start  \\\n",
       "0   PM01               Marine spread readiness                        NaT   \n",
       "1  CTV01  Personel transfer prior to pipe pull                        NaT   \n",
       "2  HDD01                       Pilot Punch Out 2025-12-09 00:00:00.000000   \n",
       "3  CTV02                          Bathy Survey 2025-12-09 07:50:58.342680   \n",
       "4  HDD02                       Pilot Pull Back 2025-12-09 03:00:00.000000   \n",
       "\n",
       "                         End  Duration                            Group  \n",
       "0                        NaT       5.0                  Pipe Management  \n",
       "1                        NaT       2.0             Crew Transfer Vessel  \n",
       "2 2025-12-09 03:00:00.000000       3.0  Horizontal Directional Drilling  \n",
       "3 2025-12-09 10:50:58.342680       3.0             Crew Transfer Vessel  \n",
       "4 2025-12-09 09:00:00.000000       6.0  Horizontal Directional Drilling  "
      ]
     },
     "execution_count": 7,
     "metadata": {},
     "output_type": "execute_result"
    }
   ],
   "source": [
    "# 5. Export scheduled activities to pandas DataFrame for analysis\n",
    "schedule_df = scheduler.to_dataframe()\n",
    "\n",
    "# 6. Calculate total schedule duration: from earliest start to latest end of activities\n",
    "total_duration = schedule_df['End'].max() - schedule_df['Start'].min()\n",
    "\n",
    "# 7. Print total schedule duration\n",
    "print(f\"Total duration of the schedule: {total_duration}\")\n",
    "\n",
    "# 8. Display the first few scheduled activities in the DataFrame\n",
    "schedule_df.head()\n"
   ]
  },
  {
   "cell_type": "code",
   "execution_count": 8,
   "id": "9669600e",
   "metadata": {},
   "outputs": [
    {
     "name": "stderr",
     "output_type": "stream",
     "text": [
      "<>:2: SyntaxWarning: invalid escape sequence '\\h'\n",
      "<>:2: SyntaxWarning: invalid escape sequence '\\h'\n",
      "C:\\Users\\btweb\\AppData\\Local\\Temp\\ipykernel_12240\\2389328646.py:2: SyntaxWarning: invalid escape sequence '\\h'\n",
      "  file_path = os.path.join(main_input_folder_path,\"Reference\\harwich_tide.csv\")\n"
     ]
    }
   ],
   "source": [
    "# Load the tidal data\n",
    "file_path = os.path.join(main_input_folder_path,\"Reference\\harwich_tide.csv\")\n",
    "tide_df = pd.read_csv(file_path, skiprows=3, names=[\"DateTime\", \"Height\"])\n",
    "\n",
    "# Convert the 'DateTime' column to datetime format\n",
    "tide_df['DateTime'] = pd.to_datetime(tide_df['DateTime'], errors='coerce')\n",
    "\n",
    "# Filter the data to include only rows where the month is December\n",
    "december_tide_df = tide_df[tide_df['DateTime'].dt.month == 12]\n",
    "\n",
    "tide_window_df = events\n"
   ]
  },
  {
   "cell_type": "code",
   "execution_count": 9,
   "id": "bb763ab4",
   "metadata": {},
   "outputs": [
    {
     "ename": "KeyError",
     "evalue": "'Duration (hours)'",
     "output_type": "error",
     "traceback": [
      "\u001b[31m---------------------------------------------------------------------------\u001b[39m",
      "\u001b[31mKeyError\u001b[39m                                  Traceback (most recent call last)",
      "\u001b[36mFile \u001b[39m\u001b[32mc:\\Users\\btweb\\AppData\\Local\\Programs\\Python\\Python313\\Lib\\site-packages\\pandas\\core\\indexes\\base.py:3812\u001b[39m, in \u001b[36mIndex.get_loc\u001b[39m\u001b[34m(self, key)\u001b[39m\n\u001b[32m   3811\u001b[39m \u001b[38;5;28;01mtry\u001b[39;00m:\n\u001b[32m-> \u001b[39m\u001b[32m3812\u001b[39m     \u001b[38;5;28;01mreturn\u001b[39;00m \u001b[38;5;28;43mself\u001b[39;49m\u001b[43m.\u001b[49m\u001b[43m_engine\u001b[49m\u001b[43m.\u001b[49m\u001b[43mget_loc\u001b[49m\u001b[43m(\u001b[49m\u001b[43mcasted_key\u001b[49m\u001b[43m)\u001b[49m\n\u001b[32m   3813\u001b[39m \u001b[38;5;28;01mexcept\u001b[39;00m \u001b[38;5;167;01mKeyError\u001b[39;00m \u001b[38;5;28;01mas\u001b[39;00m err:\n",
      "\u001b[36mFile \u001b[39m\u001b[32mpandas/_libs/index.pyx:167\u001b[39m, in \u001b[36mpandas._libs.index.IndexEngine.get_loc\u001b[39m\u001b[34m()\u001b[39m\n",
      "\u001b[36mFile \u001b[39m\u001b[32mpandas/_libs/index.pyx:196\u001b[39m, in \u001b[36mpandas._libs.index.IndexEngine.get_loc\u001b[39m\u001b[34m()\u001b[39m\n",
      "\u001b[36mFile \u001b[39m\u001b[32mpandas/_libs/hashtable_class_helper.pxi:7088\u001b[39m, in \u001b[36mpandas._libs.hashtable.PyObjectHashTable.get_item\u001b[39m\u001b[34m()\u001b[39m\n",
      "\u001b[36mFile \u001b[39m\u001b[32mpandas/_libs/hashtable_class_helper.pxi:7096\u001b[39m, in \u001b[36mpandas._libs.hashtable.PyObjectHashTable.get_item\u001b[39m\u001b[34m()\u001b[39m\n",
      "\u001b[31mKeyError\u001b[39m: 'Duration (hours)'",
      "\nThe above exception was the direct cause of the following exception:\n",
      "\u001b[31mKeyError\u001b[39m                                  Traceback (most recent call last)",
      "\u001b[36mCell\u001b[39m\u001b[36m \u001b[39m\u001b[32mIn[9]\u001b[39m\u001b[32m, line 1\u001b[39m\n\u001b[32m----> \u001b[39m\u001b[32m1\u001b[39m fig = \u001b[43mplot_weather\u001b[49m\u001b[43m(\u001b[49m\u001b[43mschedule_df\u001b[49m\u001b[43m,\u001b[49m\u001b[43m \u001b[49m\u001b[43mscheduler\u001b[49m\u001b[43m.\u001b[49m\u001b[43mdaylight_windows\u001b[49m\u001b[43m,\u001b[49m\u001b[43m \u001b[49m\u001b[43mdecember_tide_df\u001b[49m\u001b[43m,\u001b[49m\u001b[43m \u001b[49m\u001b[43mtide_window_df\u001b[49m\u001b[43m)\u001b[49m\n",
      "\u001b[36mFile \u001b[39m\u001b[32mc:\\Users\\btweb\\Documents\\Python Scripts\\WeatherOpsPlanner\\src\\plot_weather.py:78\u001b[39m, in \u001b[36mplot_weather\u001b[39m\u001b[34m(schedule_df, daylight_windows, tide_df, tide_windows_df)\u001b[39m\n\u001b[32m     67\u001b[39m         constraints = {}\n\u001b[32m     69\u001b[39m     tide_constraint = constraints.get(\u001b[33m'\u001b[39m\u001b[33mtide_window_required\u001b[39m\u001b[33m'\u001b[39m, \u001b[38;5;28;01mFalse\u001b[39;00m)\n\u001b[32m     71\u001b[39m     fig.add_trace(go.Scatter(\n\u001b[32m     72\u001b[39m         x=[row[\u001b[33m'\u001b[39m\u001b[33mStart\u001b[39m\u001b[33m'\u001b[39m], row[\u001b[33m'\u001b[39m\u001b[33mEnd\u001b[39m\u001b[33m'\u001b[39m]],\n\u001b[32m     73\u001b[39m         y=[row[\u001b[33m'\u001b[39m\u001b[33mID\u001b[39m\u001b[33m'\u001b[39m], row[\u001b[33m'\u001b[39m\u001b[33mID\u001b[39m\u001b[33m'\u001b[39m]],\n\u001b[32m     74\u001b[39m         mode=\u001b[33m'\u001b[39m\u001b[33mlines\u001b[39m\u001b[33m'\u001b[39m,\n\u001b[32m     75\u001b[39m         line=\u001b[38;5;28mdict\u001b[39m(color=bar_color, width=\u001b[32m10\u001b[39m),\n\u001b[32m     76\u001b[39m         name=row[\u001b[33m'\u001b[39m\u001b[33mGroup\u001b[39m\u001b[33m'\u001b[39m],\n\u001b[32m     77\u001b[39m         showlegend=\u001b[38;5;28;01mFalse\u001b[39;00m,\n\u001b[32m---> \u001b[39m\u001b[32m78\u001b[39m         customdata=[[row[\u001b[33m'\u001b[39m\u001b[33mID\u001b[39m\u001b[33m'\u001b[39m], \u001b[43mrow\u001b[49m\u001b[43m[\u001b[49m\u001b[33;43m'\u001b[39;49m\u001b[33;43mDuration (hours)\u001b[39;49m\u001b[33;43m'\u001b[39;49m\u001b[43m]\u001b[49m, row[\u001b[33m'\u001b[39m\u001b[33mDescription\u001b[39m\u001b[33m'\u001b[39m], row[\u001b[33m'\u001b[39m\u001b[33mPredecessor IDs\u001b[39m\u001b[33m'\u001b[39m], row[\u001b[33m'\u001b[39m\u001b[33mGroup\u001b[39m\u001b[33m'\u001b[39m], row[\u001b[33m'\u001b[39m\u001b[33mStart\u001b[39m\u001b[33m'\u001b[39m], row[\u001b[33m'\u001b[39m\u001b[33mEnd\u001b[39m\u001b[33m'\u001b[39m], tide_constraint]] * \u001b[32m2\u001b[39m,\n\u001b[32m     79\u001b[39m         hovertemplate=(\n\u001b[32m     80\u001b[39m             \u001b[33m\"\u001b[39m\u001b[33mID: \u001b[39m\u001b[33m%\u001b[39m\u001b[38;5;132;01m{customdata[0]}\u001b[39;00m\u001b[33m<br>\u001b[39m\u001b[33m\"\u001b[39m +\n\u001b[32m     81\u001b[39m             \u001b[33m\"\u001b[39m\u001b[33mDescription: \u001b[39m\u001b[33m%\u001b[39m\u001b[38;5;132;01m{customdata[2]}\u001b[39;00m\u001b[33m<br>\u001b[39m\u001b[33m\"\u001b[39m +\n\u001b[32m     82\u001b[39m             \u001b[33m\"\u001b[39m\u001b[33mPredecessor(s): \u001b[39m\u001b[33m%\u001b[39m\u001b[38;5;132;01m{customdata[3]}\u001b[39;00m\u001b[33m<br>\u001b[39m\u001b[33m\"\u001b[39m +\n\u001b[32m     83\u001b[39m             \u001b[33m\"\u001b[39m\u001b[33mGroup: \u001b[39m\u001b[33m%\u001b[39m\u001b[38;5;132;01m{customdata[4]}\u001b[39;00m\u001b[33m<br>\u001b[39m\u001b[33m\"\u001b[39m +\n\u001b[32m     84\u001b[39m             \u001b[33m\"\u001b[39m\u001b[33mDuration: \u001b[39m\u001b[33m%\u001b[39m\u001b[38;5;132;01m{customdata[1]:.2f}\u001b[39;00m\u001b[33m hours<br>\u001b[39m\u001b[33m\"\u001b[39m +\n\u001b[32m     85\u001b[39m             \u001b[33m\"\u001b[39m\u001b[33mStart: \u001b[39m\u001b[33m%\u001b[39m\u001b[38;5;132;01m{customdata[5]}\u001b[39;00m\u001b[33m<br>\u001b[39m\u001b[33m\"\u001b[39m +\n\u001b[32m     86\u001b[39m             \u001b[33m\"\u001b[39m\u001b[33mEnd: \u001b[39m\u001b[33m%\u001b[39m\u001b[38;5;132;01m{customdata[6]}\u001b[39;00m\u001b[33m<br>\u001b[39m\u001b[33m\"\u001b[39m +\n\u001b[32m     87\u001b[39m             \u001b[33m\"\u001b[39m\u001b[33mTidal Window Constraint: \u001b[39m\u001b[33m%\u001b[39m\u001b[38;5;132;01m{customdata[7]}\u001b[39;00m\u001b[33m<extra></extra>\u001b[39m\u001b[33m\"\u001b[39m\n\u001b[32m     88\u001b[39m         )\n\u001b[32m     89\u001b[39m     ), row=\u001b[32m2\u001b[39m, col=\u001b[32m1\u001b[39m)\n\u001b[32m     91\u001b[39m \u001b[38;5;66;03m# Add dummy traces for legend\u001b[39;00m\n\u001b[32m     92\u001b[39m \u001b[38;5;28;01mfor\u001b[39;00m group, color \u001b[38;5;129;01min\u001b[39;00m group_colors.items():\n",
      "\u001b[36mFile \u001b[39m\u001b[32mc:\\Users\\btweb\\AppData\\Local\\Programs\\Python\\Python313\\Lib\\site-packages\\pandas\\core\\series.py:1133\u001b[39m, in \u001b[36mSeries.__getitem__\u001b[39m\u001b[34m(self, key)\u001b[39m\n\u001b[32m   1130\u001b[39m     \u001b[38;5;28;01mreturn\u001b[39;00m \u001b[38;5;28mself\u001b[39m._values[key]\n\u001b[32m   1132\u001b[39m \u001b[38;5;28;01melif\u001b[39;00m key_is_scalar:\n\u001b[32m-> \u001b[39m\u001b[32m1133\u001b[39m     \u001b[38;5;28;01mreturn\u001b[39;00m \u001b[38;5;28;43mself\u001b[39;49m\u001b[43m.\u001b[49m\u001b[43m_get_value\u001b[49m\u001b[43m(\u001b[49m\u001b[43mkey\u001b[49m\u001b[43m)\u001b[49m\n\u001b[32m   1135\u001b[39m \u001b[38;5;66;03m# Convert generator to list before going through hashable part\u001b[39;00m\n\u001b[32m   1136\u001b[39m \u001b[38;5;66;03m# (We will iterate through the generator there to check for slices)\u001b[39;00m\n\u001b[32m   1137\u001b[39m \u001b[38;5;28;01mif\u001b[39;00m is_iterator(key):\n",
      "\u001b[36mFile \u001b[39m\u001b[32mc:\\Users\\btweb\\AppData\\Local\\Programs\\Python\\Python313\\Lib\\site-packages\\pandas\\core\\series.py:1249\u001b[39m, in \u001b[36mSeries._get_value\u001b[39m\u001b[34m(self, label, takeable)\u001b[39m\n\u001b[32m   1246\u001b[39m     \u001b[38;5;28;01mreturn\u001b[39;00m \u001b[38;5;28mself\u001b[39m._values[label]\n\u001b[32m   1248\u001b[39m \u001b[38;5;66;03m# Similar to Index.get_value, but we do not fall back to positional\u001b[39;00m\n\u001b[32m-> \u001b[39m\u001b[32m1249\u001b[39m loc = \u001b[38;5;28;43mself\u001b[39;49m\u001b[43m.\u001b[49m\u001b[43mindex\u001b[49m\u001b[43m.\u001b[49m\u001b[43mget_loc\u001b[49m\u001b[43m(\u001b[49m\u001b[43mlabel\u001b[49m\u001b[43m)\u001b[49m\n\u001b[32m   1251\u001b[39m \u001b[38;5;28;01mif\u001b[39;00m is_integer(loc):\n\u001b[32m   1252\u001b[39m     \u001b[38;5;28;01mreturn\u001b[39;00m \u001b[38;5;28mself\u001b[39m._values[loc]\n",
      "\u001b[36mFile \u001b[39m\u001b[32mc:\\Users\\btweb\\AppData\\Local\\Programs\\Python\\Python313\\Lib\\site-packages\\pandas\\core\\indexes\\base.py:3819\u001b[39m, in \u001b[36mIndex.get_loc\u001b[39m\u001b[34m(self, key)\u001b[39m\n\u001b[32m   3814\u001b[39m     \u001b[38;5;28;01mif\u001b[39;00m \u001b[38;5;28misinstance\u001b[39m(casted_key, \u001b[38;5;28mslice\u001b[39m) \u001b[38;5;129;01mor\u001b[39;00m (\n\u001b[32m   3815\u001b[39m         \u001b[38;5;28misinstance\u001b[39m(casted_key, abc.Iterable)\n\u001b[32m   3816\u001b[39m         \u001b[38;5;129;01mand\u001b[39;00m \u001b[38;5;28many\u001b[39m(\u001b[38;5;28misinstance\u001b[39m(x, \u001b[38;5;28mslice\u001b[39m) \u001b[38;5;28;01mfor\u001b[39;00m x \u001b[38;5;129;01min\u001b[39;00m casted_key)\n\u001b[32m   3817\u001b[39m     ):\n\u001b[32m   3818\u001b[39m         \u001b[38;5;28;01mraise\u001b[39;00m InvalidIndexError(key)\n\u001b[32m-> \u001b[39m\u001b[32m3819\u001b[39m     \u001b[38;5;28;01mraise\u001b[39;00m \u001b[38;5;167;01mKeyError\u001b[39;00m(key) \u001b[38;5;28;01mfrom\u001b[39;00m\u001b[38;5;250m \u001b[39m\u001b[34;01merr\u001b[39;00m\n\u001b[32m   3820\u001b[39m \u001b[38;5;28;01mexcept\u001b[39;00m \u001b[38;5;167;01mTypeError\u001b[39;00m:\n\u001b[32m   3821\u001b[39m     \u001b[38;5;66;03m# If we have a listlike key, _check_indexing_error will raise\u001b[39;00m\n\u001b[32m   3822\u001b[39m     \u001b[38;5;66;03m#  InvalidIndexError. Otherwise we fall through and re-raise\u001b[39;00m\n\u001b[32m   3823\u001b[39m     \u001b[38;5;66;03m#  the TypeError.\u001b[39;00m\n\u001b[32m   3824\u001b[39m     \u001b[38;5;28mself\u001b[39m._check_indexing_error(key)\n",
      "\u001b[31mKeyError\u001b[39m: 'Duration (hours)'"
     ]
    }
   ],
   "source": [
    "fig = plot_weather(schedule_df, scheduler.daylight_windows, december_tide_df, tide_window_df)"
   ]
  },
  {
   "cell_type": "code",
   "execution_count": null,
   "id": "f895eb5b",
   "metadata": {},
   "outputs": [],
   "source": [
    "outputpath=os.path.join(main_input_folder_path, \"pipe_pull_schedule.html\")\n",
    "fig.write_html(outputpath, include_plotlyjs='cdn')"
   ]
  }
 ],
 "metadata": {
  "kernelspec": {
   "display_name": "Python 3",
   "language": "python",
   "name": "python3"
  },
  "language_info": {
   "codemirror_mode": {
    "name": "ipython",
    "version": 3
   },
   "file_extension": ".py",
   "mimetype": "text/x-python",
   "name": "python",
   "nbconvert_exporter": "python",
   "pygments_lexer": "ipython3",
   "version": "3.13.7"
  }
 },
 "nbformat": 4,
 "nbformat_minor": 5
}
