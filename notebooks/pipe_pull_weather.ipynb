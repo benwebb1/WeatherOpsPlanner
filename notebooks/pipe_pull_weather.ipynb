{
 "cells": [
  {
   "cell_type": "code",
   "execution_count": null,
   "id": "429c75af",
   "metadata": {},
   "outputs": [],
   "source": [
    "#update to be relative to your project structure\n",
    "main_input_folder_path = r\"C:\\Users\\webbb\\VolkerWessels UK\\Grp_VMS GeoSeacore Collaboration Space - SZC\\2 Internal WIP\\06. MST's\\Weather Windows\"\n",
    "\n",
    "import sys\n",
    "import os\n",
    "import pandas as pd\n",
    "\n",
    "# Add the src directory to the system path and import functions\n",
    "sys.path.append(os.path.abspath('../src'))\n",
    "from schedule_weather import generate_activity_list, schedule_activities, scheduled_df, shift_start_end\n",
    "from plot import plot"
   ]
  },
  {
   "cell_type": "code",
   "execution_count": null,
   "id": "119235f8",
   "metadata": {},
   "outputs": [],
   "source": [
    "#read in activity data from excel\n",
    "path = os.path.join(main_input_folder_path, \"WeatherWindows.xlsx\")\n",
    "act_df = pd.read_excel(path, sheet_name=\"Sheet1\", skiprows=1)\n",
    "act_df.info()\n",
    "activities = generate_activity_list(act_df)\n"
   ]
  },
  {
   "cell_type": "code",
   "execution_count": null,
   "id": "1741e50e",
   "metadata": {},
   "outputs": [],
   "source": [
    "\n",
    "\n",
    "# Load weather/tide data\n",
    "weather_df = pd.read_csv(\n",
    "    r\"C:\\Users\\webbb\\VolkerWessels UK\\Grp_VMS GeoSeacore Collaboration Space - SZC\\2 Internal WIP\\06. MST's\\Weather Windows\\scripts\\combined_tide_data_with_rate.csv\"\n",
    ")\n",
    "\n",
    "# Parse Time column\n",
    "weather_df['Time'] = pd.to_datetime(weather_df['Time'])\n",
    "\n",
    "# Ensure absolute rate for current proxy\n",
    "weather_df['Tide_rate_m_per_hr_abs'] = weather_df['Tide_rate_m_per_hr'].abs()\n",
    "\n",
    "# Define start date for hour numbering\n",
    "start_date = weather_df['Time'].min()\n",
    "weather_df['Hour_index'] = (weather_df['Time'] - start_date).dt.total_seconds() / 3600\n",
    "\n",
    "# Build weather_data dictionary for scheduling\n",
    "weather_data = {\n",
    "    int(round(row['Hour_index'] / 0.5)): {  # 0.5 for 30-min interval\n",
    "        \"tidal_level\": row['Tide Prediction (m)'],\n",
    "        \"tidal_current\": row['Tide_rate_m_per_hr_abs']\n",
    "    }\n",
    "    for _, row in weather_df.iterrows()\n",
    "}\n",
    "\n",
    "print(weather_data)\n",
    "\n",
    "\n",
    "# Schedule with 30-minute intervals\n",
    "scheduled_data = schedule_activities(activities, weather_data, analysis_interval=1)\n",
    "\n",
    "\n",
    "df = scheduled_df(scheduled_data)\n",
    "df = shift_start_end(df)\n",
    "\n",
    "print(df.head())"
   ]
  }
 ],
 "metadata": {
  "language_info": {
   "name": "python"
  }
 },
 "nbformat": 4,
 "nbformat_minor": 5
}
