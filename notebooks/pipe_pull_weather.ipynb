{
 "cells": [
  {
   "cell_type": "code",
   "execution_count": 7,
   "id": "429c75af",
   "metadata": {},
   "outputs": [],
   "source": [
    "#update to be relative to your project structure\n",
    "main_input_folder_path = r\"C:\\Users\\webbb\\VolkerWessels UK\\Grp_VMS GeoSeacore Collaboration Space - SZC\\2 Internal WIP\\06. MST's\\Weather Windows\"\n",
    "\n",
    "import sys\n",
    "import os\n",
    "import pandas as pd\n",
    "from datetime import datetime\n",
    "\n",
    "# Add the src directory to the system path and import functions\n",
    "sys.path.append(os.path.abspath('../src'))\n",
    "from schedule_weather import generate_activity_list, schedule_activities, scheduled_df, shift_start_end\n",
    "from plot import plot"
   ]
  },
  {
   "cell_type": "code",
   "execution_count": 8,
   "id": "119235f8",
   "metadata": {},
   "outputs": [],
   "source": [
    "#read in activity data from excel\n",
    "path = os.path.join(main_input_folder_path, \"WeatherWindows.xlsx\")\n",
    "act_df = pd.read_excel(path, sheet_name=\"Sheet1\", skiprows=1)\n",
    "activities = generate_activity_list(act_df)"
   ]
  },
  {
   "cell_type": "code",
   "execution_count": 6,
   "id": "1741e50e",
   "metadata": {},
   "outputs": [
    {
     "data": {
      "text/html": [
       "<div>\n",
       "<style scoped>\n",
       "    .dataframe tbody tr th:only-of-type {\n",
       "        vertical-align: middle;\n",
       "    }\n",
       "\n",
       "    .dataframe tbody tr th {\n",
       "        vertical-align: top;\n",
       "    }\n",
       "\n",
       "    .dataframe thead th {\n",
       "        text-align: right;\n",
       "    }\n",
       "</style>\n",
       "<table border=\"1\" class=\"dataframe\">\n",
       "  <thead>\n",
       "    <tr style=\"text-align: right;\">\n",
       "      <th></th>\n",
       "      <th>datetime</th>\n",
       "      <th>tidal_level</th>\n",
       "      <th>tidal_current</th>\n",
       "    </tr>\n",
       "  </thead>\n",
       "  <tbody>\n",
       "    <tr>\n",
       "      <th>0</th>\n",
       "      <td>2025-10-27 00:00:00</td>\n",
       "      <td>2.85</td>\n",
       "      <td>0.00</td>\n",
       "    </tr>\n",
       "    <tr>\n",
       "      <th>1</th>\n",
       "      <td>2025-10-27 00:10:00</td>\n",
       "      <td>2.92</td>\n",
       "      <td>0.42</td>\n",
       "    </tr>\n",
       "    <tr>\n",
       "      <th>2</th>\n",
       "      <td>2025-10-27 00:20:00</td>\n",
       "      <td>3.00</td>\n",
       "      <td>0.48</td>\n",
       "    </tr>\n",
       "    <tr>\n",
       "      <th>3</th>\n",
       "      <td>2025-10-27 00:30:00</td>\n",
       "      <td>3.07</td>\n",
       "      <td>0.42</td>\n",
       "    </tr>\n",
       "    <tr>\n",
       "      <th>4</th>\n",
       "      <td>2025-10-27 00:40:00</td>\n",
       "      <td>3.15</td>\n",
       "      <td>0.48</td>\n",
       "    </tr>\n",
       "  </tbody>\n",
       "</table>\n",
       "</div>"
      ],
      "text/plain": [
       "             datetime  tidal_level  tidal_current\n",
       "0 2025-10-27 00:00:00         2.85           0.00\n",
       "1 2025-10-27 00:10:00         2.92           0.42\n",
       "2 2025-10-27 00:20:00         3.00           0.48\n",
       "3 2025-10-27 00:30:00         3.07           0.42\n",
       "4 2025-10-27 00:40:00         3.15           0.48"
      ]
     },
     "execution_count": 6,
     "metadata": {},
     "output_type": "execute_result"
    }
   ],
   "source": [
    "\n",
    "# Load weather/tide data\n",
    "weather_df = pd.read_csv(\n",
    "    r\"C:\\Users\\webbb\\VolkerWessels UK\\Grp_VMS GeoSeacore Collaboration Space - SZC\\2 Internal WIP\\06. MST's\\Weather Windows\\scripts\\combined_tide_data_with_rate.csv\"\n",
    ")\n",
    "\n",
    " \n",
    "# Parse Time column\n",
    "weather_df['Time'] = pd.to_datetime(weather_df['Time'])\n",
    "\n",
    "# Ensure absolute rate for current proxy\n",
    "weather_df['Tide_rate_m_per_hr_abs'] = weather_df['Tide_rate_m_per_hr'].abs()\n",
    "\n",
    "\n",
    "weather_data = pd.DataFrame({\n",
    "    'datetime': weather_df['Time'],\n",
    "    'tidal_level': weather_df['Tide Prediction (m)'],\n",
    "    'tidal_current': weather_df['Tide_rate_m_per_hr_abs']\n",
    "})\n",
    "\n",
    "\n",
    "weather_data.head()"
   ]
  },
  {
   "cell_type": "code",
   "execution_count": null,
   "id": "07e946a3",
   "metadata": {},
   "outputs": [],
   "source": [
    "\n",
    "# Load your activity DataFrame (act_df) from CSV or other source\n",
    "activities = generate_activity_list(act_df)\n",
    "scheduled = schedule_activities(activities, weather_data, analysis_interval=1.0, start_datetime=start_time)\n",
    "df = scheduled_df(scheduled)"
   ]
  }
 ],
 "metadata": {
  "kernelspec": {
   "display_name": "Python 3",
   "language": "python",
   "name": "python3"
  },
  "language_info": {
   "codemirror_mode": {
    "name": "ipython",
    "version": 3
   },
   "file_extension": ".py",
   "mimetype": "text/x-python",
   "name": "python",
   "nbconvert_exporter": "python",
   "pygments_lexer": "ipython3",
   "version": "3.13.6"
  }
 },
 "nbformat": 4,
 "nbformat_minor": 5
}
