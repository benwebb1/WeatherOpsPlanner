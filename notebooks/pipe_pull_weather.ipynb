{
 "cells": [
  {
   "cell_type": "code",
   "execution_count": 1,
   "id": "429c75af",
   "metadata": {},
   "outputs": [],
   "source": [
    "import sys\n",
    "import os\n",
    "import pandas as pd\n",
    "from datetime import datetime, timedelta\n",
    "\n",
    "# Add the src directory to the system path and import functions\n",
    "sys.path.append(os.path.abspath('../src'))\n",
    "from schedule_weather import generate_activity_list, Scheduler\n",
    "from weather_constraints import get_daylight_windows, get_tide_windows\n",
    "\n",
    "from plot_weather import plot_weather"
   ]
  },
  {
   "cell_type": "code",
   "execution_count": 2,
   "id": "119235f8",
   "metadata": {},
   "outputs": [
    {
     "name": "stderr",
     "output_type": "stream",
     "text": [
      "c:\\Users\\webbb\\AppData\\Local\\Programs\\Python\\Python313\\Lib\\site-packages\\openpyxl\\worksheet\\_reader.py:329: UserWarning: Data Validation extension is not supported and will be removed\n",
      "  warn(msg)\n"
     ]
    }
   ],
   "source": [
    "#read in activity data from excel\n",
    "#update to be relative to your project structure\n",
    "main_input_folder_path = r\"C:\\Users\\webbb\\VolkerWessels UK\\Grp_VMS GeoSeacore Collaboration Space - SZC\\2 Internal WIP\\06. MST's\\Weather Windows\"\n",
    "path = os.path.join(main_input_folder_path, \"WeatherWindows.xlsx\")\n",
    "act_df = pd.read_excel(path, sheet_name=\"Activities\", skiprows=1)\n",
    "constraints_df = pd.read_excel(path, sheet_name=\"Constraints\", skiprows=1)\n",
    "\n",
    "activities = generate_activity_list(act_df, constraints_df)"
   ]
  },
  {
   "cell_type": "code",
   "execution_count": 3,
   "id": "7e79a23d",
   "metadata": {},
   "outputs": [],
   "source": [
    "target_activity = \"Punch out of pilot\"\n",
    "input_completion_date = datetime(2025, 12, 9, 3, 0)"
   ]
  },
  {
   "cell_type": "code",
   "execution_count": 12,
   "id": "98a22bf8",
   "metadata": {},
   "outputs": [
    {
     "name": "stderr",
     "output_type": "stream",
     "text": [
      "c:\\Users\\webbb\\Documents\\python_local\\WeatherOpsPlanner\\src\\weather_constraints.py:50: UserWarning:\n",
      "\n",
      "Could not infer format, so each element will be parsed individually, falling back to `dateutil`. To ensure parsing is consistent and as-expected, please specify a format.\n",
      "\n"
     ]
    },
    {
     "name": "stdout",
     "output_type": "stream",
     "text": [
      "Loaded data from 2025-10-01 00:00:00 to 2026-10-31 23:50:00 with 57024 records.\n",
      "Filtered data from 2025-12-02 03:00:00 to 2025-12-16 03:00:00 with 2017 records.\n"
     ]
    }
   ],
   "source": [
    "#generate daylight and tidal windows for start and end date\n",
    "\n",
    "#windows - process for target date +/- 7 days\n",
    "window_data_start = input_completion_date - timedelta(days=7)\n",
    "window_data_start_end = input_completion_date + timedelta(days=7)\n",
    "\n",
    "daylight_windows = get_daylight_windows(start_date=window_data_start, end_date=window_data_start_end, save_csv=None)\n",
    "\n",
    "tidal_data_path = os.path.join(main_input_folder_path, \"Reference/harwich_tide.csv\")\n",
    "hw_windows, lw_windows = get_tide_windows(tidal_data_path, start_date=window_data_start, end_date=window_data_start_end, \n",
    "                                          skiprows=2, datetime_col=\"Date/Time\", height_col=\"Height(m)\", \n",
    "                                          slack_window_after=1.5, slack_window_before=1.5, plot=False,\n",
    "                                          save_csv=None)"
   ]
  },
  {
   "cell_type": "code",
   "execution_count": null,
   "id": "f4cb8fa3",
   "metadata": {},
   "outputs": [
    {
     "name": "stdout",
     "output_type": "stream",
     "text": [
      "Total duration of the schedule: 12 days 08:07:30\n"
     ]
    },
    {
     "data": {
      "text/html": [
       "<div>\n",
       "<style scoped>\n",
       "    .dataframe tbody tr th:only-of-type {\n",
       "        vertical-align: middle;\n",
       "    }\n",
       "\n",
       "    .dataframe tbody tr th {\n",
       "        vertical-align: top;\n",
       "    }\n",
       "\n",
       "    .dataframe thead th {\n",
       "        text-align: right;\n",
       "    }\n",
       "</style>\n",
       "<table border=\"1\" class=\"dataframe\">\n",
       "  <thead>\n",
       "    <tr style=\"text-align: right;\">\n",
       "      <th></th>\n",
       "      <th>ID</th>\n",
       "      <th>Description</th>\n",
       "      <th>Duration (hours)</th>\n",
       "      <th>Start</th>\n",
       "      <th>End</th>\n",
       "      <th>Group</th>\n",
       "      <th>Predecessor IDs</th>\n",
       "      <th>Constraints</th>\n",
       "      <th>Critical</th>\n",
       "      <th>Tide Window Mismatch</th>\n",
       "    </tr>\n",
       "  </thead>\n",
       "  <tbody>\n",
       "    <tr>\n",
       "      <th>0</th>\n",
       "      <td>PM01</td>\n",
       "      <td>Mobilisation of Leask marine spread</td>\n",
       "      <td>5.0</td>\n",
       "      <td>2025-12-09 03:00:00</td>\n",
       "      <td>2025-12-09 08:00:00</td>\n",
       "      <td>Pipe Management</td>\n",
       "      <td>[]</td>\n",
       "      <td>{'daylight_required': False, 'tide_window_requ...</td>\n",
       "      <td>False</td>\n",
       "      <td>False</td>\n",
       "    </tr>\n",
       "    <tr>\n",
       "      <th>1</th>\n",
       "      <td>CTV01</td>\n",
       "      <td>CTV transfer of Personnel  to JUB</td>\n",
       "      <td>2.0</td>\n",
       "      <td>2025-12-09 07:50:58</td>\n",
       "      <td>2025-12-09 09:50:58</td>\n",
       "      <td>Crew Transfer Vessel</td>\n",
       "      <td>[]</td>\n",
       "      <td>{'daylight_required': True, 'tide_window_requi...</td>\n",
       "      <td>False</td>\n",
       "      <td>False</td>\n",
       "    </tr>\n",
       "    <tr>\n",
       "      <th>2</th>\n",
       "      <td>HDD01</td>\n",
       "      <td>Punch out of pilot</td>\n",
       "      <td>3.0</td>\n",
       "      <td>2025-12-09 09:50:58</td>\n",
       "      <td>2025-12-09 12:50:58</td>\n",
       "      <td>Horizontal Directional Drilling</td>\n",
       "      <td>[PM01, CTV01]</td>\n",
       "      <td>{'daylight_required': False, 'tide_window_requ...</td>\n",
       "      <td>False</td>\n",
       "      <td>False</td>\n",
       "    </tr>\n",
       "    <tr>\n",
       "      <th>3</th>\n",
       "      <td>CTV02</td>\n",
       "      <td>Bathymetric survey of pilot to confirm bore lo...</td>\n",
       "      <td>3.0</td>\n",
       "      <td>2025-12-10 07:52:04</td>\n",
       "      <td>2025-12-10 10:52:04</td>\n",
       "      <td>Crew Transfer Vessel</td>\n",
       "      <td>[HDD01]</td>\n",
       "      <td>{'daylight_required': True, 'tide_window_requi...</td>\n",
       "      <td>False</td>\n",
       "      <td>False</td>\n",
       "    </tr>\n",
       "    <tr>\n",
       "      <th>4</th>\n",
       "      <td>HDD02</td>\n",
       "      <td>Pull back of pilot</td>\n",
       "      <td>6.0</td>\n",
       "      <td>2025-12-09 12:50:58</td>\n",
       "      <td>2025-12-09 18:50:58</td>\n",
       "      <td>Horizontal Directional Drilling</td>\n",
       "      <td>[HDD01]</td>\n",
       "      <td>{'daylight_required': False, 'tide_window_requ...</td>\n",
       "      <td>False</td>\n",
       "      <td>False</td>\n",
       "    </tr>\n",
       "  </tbody>\n",
       "</table>\n",
       "</div>"
      ],
      "text/plain": [
       "      ID                                        Description  Duration (hours)  \\\n",
       "0   PM01                Mobilisation of Leask marine spread               5.0   \n",
       "1  CTV01                  CTV transfer of Personnel  to JUB               2.0   \n",
       "2  HDD01                                 Punch out of pilot               3.0   \n",
       "3  CTV02  Bathymetric survey of pilot to confirm bore lo...               3.0   \n",
       "4  HDD02                                 Pull back of pilot               6.0   \n",
       "\n",
       "                Start                 End                            Group  \\\n",
       "0 2025-12-09 03:00:00 2025-12-09 08:00:00                  Pipe Management   \n",
       "1 2025-12-09 07:50:58 2025-12-09 09:50:58             Crew Transfer Vessel   \n",
       "2 2025-12-09 09:50:58 2025-12-09 12:50:58  Horizontal Directional Drilling   \n",
       "3 2025-12-10 07:52:04 2025-12-10 10:52:04             Crew Transfer Vessel   \n",
       "4 2025-12-09 12:50:58 2025-12-09 18:50:58  Horizontal Directional Drilling   \n",
       "\n",
       "  Predecessor IDs                                        Constraints  \\\n",
       "0              []  {'daylight_required': False, 'tide_window_requ...   \n",
       "1              []  {'daylight_required': True, 'tide_window_requi...   \n",
       "2   [PM01, CTV01]  {'daylight_required': False, 'tide_window_requ...   \n",
       "3         [HDD01]  {'daylight_required': True, 'tide_window_requi...   \n",
       "4         [HDD01]  {'daylight_required': False, 'tide_window_requ...   \n",
       "\n",
       "   Critical  Tide Window Mismatch  \n",
       "0     False                 False  \n",
       "1     False                 False  \n",
       "2     False                 False  \n",
       "3     False                 False  \n",
       "4     False                 False  "
      ]
     },
     "execution_count": 5,
     "metadata": {},
     "output_type": "execute_result"
    }
   ],
   "source": [
    "\n",
    "# 1. Set your project start date\n",
    "project_start = datetime(2025, 12, 9, 3, 0)  # Example: 1st Dec 2025, 07:00\n",
    "\n",
    "# 2. Create the Scheduler\n",
    "scheduler = Scheduler(\n",
    "    activities=activities,\n",
    "    weather_data=None,  # Add your weather DataFrame if available\n",
    "    daylight_csv=\"sizewell_daylight_windows_december_2025.csv\",   # Add daylight windows if available\n",
    "    tide_csv=\"lowestoft_slack_water_windows_december_2025.csv\",    # Add tide windows if available\n",
    "    start_datetime=project_start\n",
    ")\n",
    "\n",
    "# 3. Run the schedule\n",
    "scheduled_activities = scheduler.schedule(run_critical_path=True)\n",
    "\n",
    "# 4. Export to DataFrame for review or export\n",
    "schedule_df = scheduler.to_dataframe()\n",
    "\n",
    "# Calculate the total duration by subtracting the earliest start from the latest end\n",
    "total_duration = schedule_df['End'].max() - schedule_df['Start'].min()\n",
    "\n",
    "# Print the total duration\n",
    "print(f\"Total duration of the schedule: {total_duration}\")\n",
    "\n",
    "schedule_df.head()\n"
   ]
  },
  {
   "cell_type": "code",
   "execution_count": 6,
   "id": "9669600e",
   "metadata": {},
   "outputs": [],
   "source": [
    "# Load the tidal data\n",
    "file_path = r\"C:\\Users\\webbb\\VolkerWessels UK\\Grp_VMS GeoSeacore Collaboration Space - SZC\\2 Internal WIP\\06. MST's\\Weather Windows\\scripts\\Tide Data_Lowestoft_10min.CSV\"\n",
    "tide_df = pd.read_csv(file_path, skiprows=3, names=[\"DateTime\", \"Height\"])\n",
    "\n",
    "# Convert the 'DateTime' column to datetime format\n",
    "tide_df['DateTime'] = pd.to_datetime(tide_df['DateTime'], errors='coerce')\n",
    "\n",
    "# Filter the data to include only rows where the month is December\n",
    "december_tide_df = tide_df[tide_df['DateTime'].dt.month == 12]\n"
   ]
  },
  {
   "cell_type": "code",
   "execution_count": 7,
   "id": "6d208010",
   "metadata": {},
   "outputs": [],
   "source": [
    "tide_window_df = pd.read_csv(\"lowestoft_slack_water_windows_december_2025.csv\")"
   ]
  },
  {
   "cell_type": "code",
   "execution_count": 8,
   "id": "bb763ab4",
   "metadata": {},
   "outputs": [],
   "source": [
    "fig = plot_weather(schedule_df, scheduler.daylight_windows, december_tide_df, tide_window_df)"
   ]
  },
  {
   "cell_type": "code",
   "execution_count": 9,
   "id": "f895eb5b",
   "metadata": {},
   "outputs": [],
   "source": [
    "outputpath=os.path.join(main_input_folder_path, \"pipe_pull_schedule.html\")\n",
    "fig.write_html(outputpath, include_plotlyjs='cdn')"
   ]
  }
 ],
 "metadata": {
  "kernelspec": {
   "display_name": "Python 3",
   "language": "python",
   "name": "python3"
  },
  "language_info": {
   "codemirror_mode": {
    "name": "ipython",
    "version": 3
   },
   "file_extension": ".py",
   "mimetype": "text/x-python",
   "name": "python",
   "nbconvert_exporter": "python",
   "pygments_lexer": "ipython3",
   "version": "3.13.6"
  }
 },
 "nbformat": 4,
 "nbformat_minor": 5
}
